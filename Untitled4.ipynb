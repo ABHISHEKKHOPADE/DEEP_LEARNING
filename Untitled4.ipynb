{
  "nbformat": 4,
  "nbformat_minor": 0,
  "metadata": {
    "colab": {
      "provenance": [],
      "authorship_tag": "ABX9TyPktTu7A/bZ/RmjS6AAhpTv",
      "include_colab_link": true
    },
    "kernelspec": {
      "name": "python3",
      "display_name": "Python 3"
    },
    "language_info": {
      "name": "python"
    }
  },
  "cells": [
    {
      "cell_type": "markdown",
      "metadata": {
        "id": "view-in-github",
        "colab_type": "text"
      },
      "source": [
        "<a href=\"https://colab.research.google.com/github/ABHISHEKKHOPADE/my_second/blob/main/Untitled4.ipynb\" target=\"_parent\"><img src=\"https://colab.research.google.com/assets/colab-badge.svg\" alt=\"Open In Colab\"/></a>"
      ]
    },
    {
      "cell_type": "code",
      "execution_count": 3,
      "metadata": {
        "id": "CLXTXDWof54e"
      },
      "outputs": [],
      "source": [
        "import tensorflow as tf\n",
        "import pandas as pd\n",
        "from sklearn.model_selection import train_test_split\n",
        "from sklearn.linear_model import LinearRegression\n",
        "import numpy as np\n",
        "\n",
        "import matplotlib.pyplot as plt\n",
        "\n",
        "\n",
        "df=pd.read_csv(\"/content/student_iq_cgpa_placement_1000.csv\")"
      ]
    },
    {
      "cell_type": "code",
      "source": [
        "df['Placement_Status'] = df['Placement_Status'].map({'Placed': 1, 'Not Placed': 0})\n",
        "print(df.head())\n",
        "x=df.drop(['Placement_Status','Student_ID'],axis=1)\n",
        "y=df['Placement_Status']"
      ],
      "metadata": {
        "colab": {
          "base_uri": "https://localhost:8080/"
        },
        "id": "28yS0-i2hrLs",
        "outputId": "6730c8b3-2745-45f3-d9c3-c16e64c81ec6"
      },
      "execution_count": 4,
      "outputs": [
        {
          "output_type": "stream",
          "name": "stdout",
          "text": [
            "   Student_ID   IQ  CGPA  Placement_Status\n",
            "0           1  111  7.22                 0\n",
            "1           2  117  8.43                 1\n",
            "2           3   93  6.98                 0\n",
            "3           4   98  9.30                 0\n",
            "4           5   93  7.31                 0\n"
          ]
        }
      ]
    },
    {
      "cell_type": "code",
      "source": [
        "from sklearn.model_selection import   train_test_split\n",
        "from sklearn.linear_model import LogisticRegression\n",
        "X_train, X_test, y_train, y_test = train_test_split(x, y, test_size=0.2, random_state=42)\n",
        "print(X_train.shape, X_test.shape, y_train.shape, y_test.shape)\n",
        "model=LogisticRegression()\n",
        "model.fit(X_train, y_train,)\n",
        "print(model.predict([[192,9.6]]))\n",
        "print(\"R² Score:\", model.score(X_test, y_test))\n"
      ],
      "metadata": {
        "colab": {
          "base_uri": "https://localhost:8080/"
        },
        "id": "ZFJjRMvfhspf",
        "outputId": "8f430070-3cf9-4809-8316-412e15e438ce"
      },
      "execution_count": 26,
      "outputs": [
        {
          "output_type": "stream",
          "name": "stdout",
          "text": [
            "(800, 2) (200, 2) (800,) (200,)\n",
            "[1]\n",
            "R² Score: 0.955\n"
          ]
        },
        {
          "output_type": "stream",
          "name": "stderr",
          "text": [
            "/usr/local/lib/python3.11/dist-packages/sklearn/utils/validation.py:2739: UserWarning: X does not have valid feature names, but LogisticRegression was fitted with feature names\n",
            "  warnings.warn(\n"
          ]
        }
      ]
    },
    {
      "cell_type": "code",
      "source": [
        "from tensorflow.keras.models import Sequential\n",
        "from tensorflow.keras.layers import Dense\n",
        "model=Sequential()\n",
        "model.add(Dense(128,activation='relu',input_shape=(2,)))\n",
        "model.add(Dense(64,activation='relu'))\n",
        "model.add(Dense(1,activation='sigmoid'))\n",
        "model.compile(optimizer='adam',loss='binary_crossentropy',metrics=['accuracy'])"
      ],
      "metadata": {
        "colab": {
          "base_uri": "https://localhost:8080/"
        },
        "id": "S8SbZzlBhvYv",
        "outputId": "fa1db4c0-c47e-4e07-b0ec-37bda8db9741"
      },
      "execution_count": 19,
      "outputs": [
        {
          "output_type": "stream",
          "name": "stderr",
          "text": [
            "/usr/local/lib/python3.11/dist-packages/keras/src/layers/core/dense.py:87: UserWarning: Do not pass an `input_shape`/`input_dim` argument to a layer. When using Sequential models, prefer using an `Input(shape)` object as the first layer in the model instead.\n",
            "  super().__init__(activity_regularizer=activity_regularizer, **kwargs)\n"
          ]
        }
      ]
    },
    {
      "cell_type": "code",
      "source": [
        "model.fit(X_train,y_train,epochs=10,validation_data=(X_test,y_test))"
      ],
      "metadata": {
        "id": "yR5oMYtpjqPo",
        "colab": {
          "base_uri": "https://localhost:8080/"
        },
        "outputId": "9a280f89-edde-41ed-f600-c390307fb3cf"
      },
      "execution_count": 20,
      "outputs": [
        {
          "output_type": "stream",
          "name": "stdout",
          "text": [
            "Epoch 1/10\n",
            "\u001b[1m25/25\u001b[0m \u001b[32m━━━━━━━━━━━━━━━━━━━━\u001b[0m\u001b[37m\u001b[0m \u001b[1m3s\u001b[0m 16ms/step - accuracy: 0.4757 - loss: 1.4253 - val_accuracy: 0.5250 - val_loss: 0.8028\n",
            "Epoch 2/10\n",
            "\u001b[1m25/25\u001b[0m \u001b[32m━━━━━━━━━━━━━━━━━━━━\u001b[0m\u001b[37m\u001b[0m \u001b[1m0s\u001b[0m 5ms/step - accuracy: 0.4961 - loss: 0.8180 - val_accuracy: 0.4750 - val_loss: 0.7402\n",
            "Epoch 3/10\n",
            "\u001b[1m25/25\u001b[0m \u001b[32m━━━━━━━━━━━━━━━━━━━━\u001b[0m\u001b[37m\u001b[0m \u001b[1m0s\u001b[0m 5ms/step - accuracy: 0.5596 - loss: 0.6765 - val_accuracy: 0.5750 - val_loss: 0.6513\n",
            "Epoch 4/10\n",
            "\u001b[1m25/25\u001b[0m \u001b[32m━━━━━━━━━━━━━━━━━━━━\u001b[0m\u001b[37m\u001b[0m \u001b[1m0s\u001b[0m 5ms/step - accuracy: 0.5393 - loss: 0.7140 - val_accuracy: 0.4750 - val_loss: 0.7346\n",
            "Epoch 5/10\n",
            "\u001b[1m25/25\u001b[0m \u001b[32m━━━━━━━━━━━━━━━━━━━━\u001b[0m\u001b[37m\u001b[0m \u001b[1m0s\u001b[0m 5ms/step - accuracy: 0.5202 - loss: 0.6979 - val_accuracy: 0.7050 - val_loss: 0.6242\n",
            "Epoch 6/10\n",
            "\u001b[1m25/25\u001b[0m \u001b[32m━━━━━━━━━━━━━━━━━━━━\u001b[0m\u001b[37m\u001b[0m \u001b[1m0s\u001b[0m 5ms/step - accuracy: 0.5925 - loss: 0.6539 - val_accuracy: 0.6350 - val_loss: 0.6383\n",
            "Epoch 7/10\n",
            "\u001b[1m25/25\u001b[0m \u001b[32m━━━━━━━━━━━━━━━━━━━━\u001b[0m\u001b[37m\u001b[0m \u001b[1m0s\u001b[0m 5ms/step - accuracy: 0.5778 - loss: 0.6683 - val_accuracy: 0.6700 - val_loss: 0.6086\n",
            "Epoch 8/10\n",
            "\u001b[1m25/25\u001b[0m \u001b[32m━━━━━━━━━━━━━━━━━━━━\u001b[0m\u001b[37m\u001b[0m \u001b[1m0s\u001b[0m 5ms/step - accuracy: 0.6206 - loss: 0.6317 - val_accuracy: 0.6400 - val_loss: 0.6270\n",
            "Epoch 9/10\n",
            "\u001b[1m25/25\u001b[0m \u001b[32m━━━━━━━━━━━━━━━━━━━━\u001b[0m\u001b[37m\u001b[0m \u001b[1m0s\u001b[0m 9ms/step - accuracy: 0.6331 - loss: 0.6370 - val_accuracy: 0.7200 - val_loss: 0.5930\n",
            "Epoch 10/10\n",
            "\u001b[1m25/25\u001b[0m \u001b[32m━━━━━━━━━━━━━━━━━━━━\u001b[0m\u001b[37m\u001b[0m \u001b[1m0s\u001b[0m 8ms/step - accuracy: 0.6807 - loss: 0.6101 - val_accuracy: 0.7150 - val_loss: 0.5802\n"
          ]
        },
        {
          "output_type": "execute_result",
          "data": {
            "text/plain": [
              "<keras.src.callbacks.history.History at 0x7d1814f25cd0>"
            ]
          },
          "metadata": {},
          "execution_count": 20
        }
      ]
    },
    {
      "cell_type": "code",
      "source": [
        "model.predict(np.array([[1,100]]))"
      ],
      "metadata": {
        "colab": {
          "base_uri": "https://localhost:8080/"
        },
        "id": "26r4DGbhhbj4",
        "outputId": "1caf4a87-098a-4050-9d1b-03ba32f65dbf"
      },
      "execution_count": 21,
      "outputs": [
        {
          "output_type": "stream",
          "name": "stdout",
          "text": [
            "\u001b[1m1/1\u001b[0m \u001b[32m━━━━━━━━━━━━━━━━━━━━\u001b[0m\u001b[37m\u001b[0m \u001b[1m0s\u001b[0m 69ms/step\n"
          ]
        },
        {
          "output_type": "execute_result",
          "data": {
            "text/plain": [
              "array([[1.2146544e-12]], dtype=float32)"
            ]
          },
          "metadata": {},
          "execution_count": 21
        }
      ]
    },
    {
      "cell_type": "code",
      "source": [
        "import tensorflow as tf\n",
        "import pandas as pd\n",
        "from sklearn.model_selection import train_test_split\n",
        "from sklearn.linear_model import LogisticRegression\n",
        "from tensorflow.keras.models import Sequential\n",
        "from tensorflow.keras.layers import Dense\n",
        "import numpy as np\n",
        "\n",
        "# Load and preprocess\n",
        "df = pd.read_csv(\"/content/student_iq_cgpa_placement_1000.csv\")\n",
        "df['Placement_Status'] = df['Placement_Status'].map({'Placed': 1, 'Not Placed': 0})\n",
        "X = df.drop(['Placement_Status', 'Student_ID'], axis=1)\n",
        "y = df['Placement_Status']\n",
        "\n",
        "# Train-test split\n",
        "X_train, X_test, y_train, y_test = train_test_split(X, y, test_size=0.2, random_state=42)\n",
        "\n",
        "# 1️⃣ Train Logistic Regression (ML)\n",
        "ml_model = LogisticRegression()\n",
        "ml_model.fit(X_train, y_train)\n",
        "ml_preds_train = ml_model.predict_proba(X_train)[:, 1]\n",
        "ml_preds_test = ml_model.predict_proba(X_test)[:, 1]\n",
        "print(ml_model.score(X_test,y_test))\n",
        "\n",
        "# 2️⃣ Train Neural Network (DL)\n",
        "dl_model = Sequential([\n",
        "    Dense(128, activation='relu', input_shape=(2,)),\n",
        "    Dense(64, activation='relu'),\n",
        "    Dense(1, activation='sigmoid')\n",
        "])\n",
        "dl_model.compile(optimizer='adam', loss='binary_crossentropy', metrics=['accuracy'])\n",
        "print(dl_model.fit(X_train, y_train, epochs=10, validation_data=(X_test, y_test), verbose=0))\n",
        "\n",
        "dl_preds_train = dl_model.predict(X_train).flatten()\n",
        "dl_preds_test = dl_model.predict(X_test).flatten()\n",
        "\n",
        "\n",
        "# 3️⃣ Combine both model outputs (stacking)\n",
        "stacked_X_train = np.column_stack((ml_preds_train, dl_preds_train))\n",
        "stacked_X_test = np.column_stack((ml_preds_test, dl_preds_test))\n",
        "print('stacked_X_train',stacked_X_train)\n",
        "# 4️⃣ Final meta-classifier\n",
        "final_model = LogisticRegression()\n",
        "final_model.fit(stacked_X_train, y_train)\n",
        "final_accuracy = final_model.score(stacked_X_test, y_test)\n",
        "\n",
        "print(\"✅ Integrated ML + DL Stacked Model Accuracy:\", final_accuracy)\n"
      ],
      "metadata": {
        "colab": {
          "base_uri": "https://localhost:8080/"
        },
        "id": "zrJkVxbfirSj",
        "outputId": "6d34f10a-0402-4bb5-a743-a211ca4fcfea"
      },
      "execution_count": 34,
      "outputs": [
        {
          "output_type": "stream",
          "name": "stdout",
          "text": [
            "0.955\n"
          ]
        },
        {
          "output_type": "stream",
          "name": "stderr",
          "text": [
            "/usr/local/lib/python3.11/dist-packages/keras/src/layers/core/dense.py:87: UserWarning: Do not pass an `input_shape`/`input_dim` argument to a layer. When using Sequential models, prefer using an `Input(shape)` object as the first layer in the model instead.\n",
            "  super().__init__(activity_regularizer=activity_regularizer, **kwargs)\n"
          ]
        },
        {
          "output_type": "stream",
          "name": "stdout",
          "text": [
            "<keras.src.callbacks.history.History object at 0x7d181fa31810>\n",
            "\u001b[1m25/25\u001b[0m \u001b[32m━━━━━━━━━━━━━━━━━━━━\u001b[0m\u001b[37m\u001b[0m \u001b[1m0s\u001b[0m 2ms/step \n",
            "\u001b[1m7/7\u001b[0m \u001b[32m━━━━━━━━━━━━━━━━━━━━\u001b[0m\u001b[37m\u001b[0m \u001b[1m0s\u001b[0m 10ms/step\n",
            "stacked_X_train [[9.96612444e-01 7.67597377e-01]\n",
            " [9.99394136e-01 7.10683465e-01]\n",
            " [6.06371407e-06 4.90088969e-01]\n",
            " ...\n",
            " [9.99999929e-01 6.93615735e-01]\n",
            " [8.81063565e-06 3.02225530e-01]\n",
            " [6.83930478e-07 6.52463973e-01]]\n",
            "✅ Integrated ML + DL Stacked Model Accuracy: 0.955\n"
          ]
        }
      ]
    },
    {
      "cell_type": "code",
      "source": [],
      "metadata": {
        "id": "EhbqrRA7kgAA"
      },
      "execution_count": null,
      "outputs": []
    }
  ]
}